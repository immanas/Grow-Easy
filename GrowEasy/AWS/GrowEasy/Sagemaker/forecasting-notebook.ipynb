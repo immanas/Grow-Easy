{
 "cells": [
  {
   "cell_type": "code",
   "execution_count": null,
   "id": "c22620eb",
   "metadata": {
    "vscode": {
     "languageId": "plaintext"
    }
   },
   "outputs": [],
   "source": [
    "\n",
    "import pandas as pd\n",
    "import numpy as np\n",
    "import boto3\n",
    "import io\n",
    "import matplotlib.pyplot as plt\n",
    "from datetime import timedelta\n",
    "\n",
    "import torch\n",
    "import torch.nn as nn\n",
    "from sklearn.preprocessing import MinMaxScaler"
   ]
  },
  {
   "cell_type": "code",
   "execution_count": null,
   "id": "fa9b4467",
   "metadata": {
    "vscode": {
     "languageId": "plaintext"
    }
   },
   "outputs": [],
   "source": [
    "# Cell 2: AWS Setup\n",
    "s3_bucket = 'groweasy-products-bucket'\n",
    "csv_key = 'products.csv'\n",
    "dynamodb_table = 'ForecastResults'\n",
    "\n",
    "s3 = boto3.client('s3')\n",
    "dynamodb = boto3.resource('dynamodb')\n",
    "table = dynamodb.Table(dynamodb_table)"
   ]
  },
  {
   "cell_type": "code",
   "execution_count": null,
   "id": "9fce334d",
   "metadata": {
    "vscode": {
     "languageId": "plaintext"
    }
   },
   "outputs": [],
   "source": [
    "# Cell 3: Load CSV from S3\n",
    "obj = s3.get_object(Bucket=s3_bucket, Key=csv_key)\n",
    "df = pd.read_csv(io.BytesIO(obj['Body'].read()))\n",
    "\n",
    "df['timestamp'] = pd.to_datetime(df['timestamp'])\n",
    "df = df.sort_values(['product_id', 'timestamp'])\n"
   ]
  },
  {
   "cell_type": "code",
   "execution_count": null,
   "id": "7e3bd40e",
   "metadata": {
    "vscode": {
     "languageId": "plaintext"
    }
   },
   "outputs": [],
   "source": [
    "# Cell 4: LSTM Model Definition\n",
    "class LSTMModel(nn.Module):\n",
    "    def __init__(self, input_size=1, hidden_size=50, output_size=1):\n",
    "        super(LSTMModel, self).__init__()\n",
    "        self.lstm = nn.LSTM(input_size, hidden_size, batch_first=True)\n",
    "        self.fc = nn.Linear(hidden_size, output_size)\n",
    "\n",
    "    def forward(self, x):\n",
    "        out, _ = self.lstm(x)\n",
    "        return self.fc(out[:, -1, :])\n"
   ]
  },
  {
   "cell_type": "code",
   "execution_count": null,
   "id": "90c72cec",
   "metadata": {
    "vscode": {
     "languageId": "plaintext"
    }
   },
   "outputs": [],
   "source": [
    "# Cell 5: Forecast Function\n",
    "def forecast_product(df_product, forecast_days=7):\n",
    "    scaler = MinMaxScaler()\n",
    "    orders = df_product['total_orders'].values.reshape(-1, 1)\n",
    "    scaled = scaler.fit_transform(orders)"
   ]
  },
  {
   "cell_type": "code",
   "execution_count": null,
   "id": "faa17a99",
   "metadata": {
    "vscode": {
     "languageId": "plaintext"
    }
   },
   "outputs": [],
   "source": [
    " # Create sequences\n",
    "    seq_len = 5\n",
    "    X, y = [], []\n",
    "    for i in range(len(scaled) - seq_len):\n",
    "        X.append(scaled[i:i+seq_len])\n",
    "        y.append(scaled[i+seq_len])\n",
    "    \n",
    "    X = torch.tensor(np.array(X), dtype=torch.float32)\n",
    "    y = torch.tensor(np.array(y), dtype=torch.float32)\n"
   ]
  },
  {
   "cell_type": "code",
   "execution_count": null,
   "id": "5655ed06",
   "metadata": {
    "vscode": {
     "languageId": "plaintext"
    }
   },
   "outputs": [],
   "source": [
    " # Train model\n",
    "    model = LSTMModel()\n",
    "    loss_fn = nn.MSELoss()\n",
    "    optimizer = torch.optim.Adam(model.parameters(), lr=0.01)\n",
    "\n",
    "    model.train()\n",
    "    for epoch in range(100):\n",
    "        optimizer.zero_grad()\n",
    "        output = model(X)\n",
    "        loss = loss_fn(output, y)\n",
    "        loss.backward()\n",
    "        optimizer.step()"
   ]
  },
  {
   "cell_type": "code",
   "execution_count": null,
   "id": "2f9154d1",
   "metadata": {
    "vscode": {
     "languageId": "plaintext"
    }
   },
   "outputs": [],
   "source": [
    "# Forecast next N days\n",
    "    model.eval()\n",
    "    last_seq = scaled[-seq_len:].reshape(1, seq_len, 1)\n",
    "    last_seq = torch.tensor(last_seq, dtype=torch.float32)\n",
    "\n",
    "    preds = []\n",
    "    for _ in range(forecast_days):\n",
    "        with torch.no_grad():\n",
    "            pred = model(last_seq).item()\n",
    "        preds.append(pred)\n",
    "\n",
    "        new_seq = torch.cat([last_seq[:, 1:, :], torch.tensor([[[pred]]])], dim=1)\n",
    "        last_seq = new_seq\n",
    "\n",
    "    preds_rescaled = scaler.inverse_transform(np.array(preds).reshape(-1, 1)).flatten()\n",
    "    return preds_rescaled"
   ]
  },
  {
   "cell_type": "code",
   "execution_count": null,
   "id": "a355ffee",
   "metadata": {
    "vscode": {
     "languageId": "plaintext"
    }
   },
   "outputs": [],
   "source": [
    "# Cell 6: Run Forecast for Each Product\n",
    "results = []\n",
    "for product_id, group in df.groupby('product_id'):\n",
    "    preds = forecast_product(group, forecast_days=7)\n",
    "    start_date = group['timestamp'].max() + timedelta(days=1)\n",
    "\n",
    "    for i, forecast_value in enumerate(preds):\n",
    "        forecast_date = (start_date + timedelta(days=i)).strftime('%Y-%m-%d')\n",
    "        results.append({\n",
    "            'product_id': product_id,\n",
    "            'forecast_date': forecast_date,\n",
    "            'predicted_orders': int(forecast_value)\n",
    "        })\n"
   ]
  },
  {
   "cell_type": "code",
   "execution_count": null,
   "id": "863401f0",
   "metadata": {
    "vscode": {
     "languageId": "plaintext"
    }
   },
   "outputs": [],
   "source": [
    "# Cell 7: Upload to DynamoDB\n",
    "for item in results:\n",
    "    table.put_item(Item=item)\n",
    "\n",
    "print(\"✅ Forecasts saved to DynamoDB table:\", dynamodb_table)"
   ]
  }
 ],
 "metadata": {
  "language_info": {
   "name": "python"
  }
 },
 "nbformat": 4,
 "nbformat_minor": 5
}
